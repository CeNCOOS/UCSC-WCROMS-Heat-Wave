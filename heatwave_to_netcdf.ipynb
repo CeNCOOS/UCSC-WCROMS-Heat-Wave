{
 "cells": [
  {
   "cell_type": "code",
   "execution_count": 1,
   "metadata": {},
   "outputs": [],
   "source": [
    "import pickle\n",
    "import matplotlib.pyplot as plt\n",
    "import pandas as pd\n",
    "import numpy as np"
   ]
  },
  {
   "cell_type": "code",
   "execution_count": 3,
   "metadata": {},
   "outputs": [],
   "source": [
    "time,newtime=pickle.load(open('c:/users/flbahr/heat_wave_westcoast_time.p','rb'))"
   ]
  },
  {
   "cell_type": "code",
   "execution_count": null,
   "metadata": {},
   "outputs": [],
   "source": [
    "#heatmoderate,heatstrong,heatsevere=pickle.load(open('c:/heat_content/heat_2.p','rb'))"
   ]
  },
  {
   "cell_type": "code",
   "execution_count": 5,
   "metadata": {},
   "outputs": [],
   "source": [
    "heatwavesnumber,hwv,hwmoderate,hwstrong,hwsevere,hwextreme,hwevents,startindexs,stopindexs,heatvalueindex=pickle.load(open('c:/users/flbahr/heat_1.p','rb'))"
   ]
  },
  {
   "cell_type": "code",
   "execution_count": 6,
   "metadata": {},
   "outputs": [],
   "source": [
    "[heatextreme]=pickle.load(open('c:/users/flbahr/heat_3a.p','rb'))"
   ]
  },
  {
   "cell_type": "code",
   "execution_count": 13,
   "metadata": {},
   "outputs": [],
   "source": [
    "[heatstrong]=pickle.load(open('c:/users/flbahr/heat_5a.p','rb'))"
   ]
  },
  {
   "cell_type": "code",
   "execution_count": 14,
   "metadata": {},
   "outputs": [],
   "source": [
    "[heatsevere]=pickle.load(open('c:/users/flbahr/heat_4a.p','rb'))"
   ]
  },
  {
   "cell_type": "code",
   "execution_count": 15,
   "metadata": {},
   "outputs": [],
   "source": [
    "[heatmoderate]=pickle.load(open('c:/users/flbahr/heat_6a.p','rb'))"
   ]
  },
  {
   "cell_type": "code",
   "execution_count": 16,
   "metadata": {},
   "outputs": [
    {
     "data": {
      "text/plain": [
       "(15961, 175, 117)"
      ]
     },
     "execution_count": 16,
     "metadata": {},
     "output_type": "execute_result"
    }
   ],
   "source": [
    "heatmoderate.shape"
   ]
  },
  {
   "cell_type": "code",
   "execution_count": 17,
   "metadata": {},
   "outputs": [],
   "source": [
    "import xarray as xr"
   ]
  },
  {
   "cell_type": "code",
   "execution_count": 18,
   "metadata": {},
   "outputs": [],
   "source": [
    "ds = xr.open_mfdataset(['x:/heat_content/West_Coast_upper_heat_content.nc'],chunks={\"time\":10})"
   ]
  },
  {
   "cell_type": "code",
   "execution_count": 19,
   "metadata": {},
   "outputs": [
    {
     "name": "stdout",
     "output_type": "stream",
     "text": [
      "175\n",
      "117\n"
     ]
    }
   ],
   "source": [
    "lat=ds['lat'].values\n",
    "lon=ds['lon'].values\n",
    "print(len(lat))\n",
    "print(len(lon))"
   ]
  },
  {
   "cell_type": "code",
   "execution_count": 20,
   "metadata": {},
   "outputs": [
    {
     "name": "stdout",
     "output_type": "stream",
     "text": [
      "(15961,)\n",
      "(15961,)\n",
      "(15961, 175, 117)\n",
      "(15961, 175, 117)\n",
      "(15961, 175, 117)\n",
      "(15961, 175, 117)\n",
      "(175, 117)\n",
      "(175, 117)\n",
      "(175, 117)\n",
      "(175, 117)\n",
      "(175, 117)\n",
      "(175, 117)\n",
      "(175, 117)\n",
      "12216\n",
      "12216\n",
      "(15961, 175, 117)\n"
     ]
    }
   ],
   "source": [
    "print(time.shape)\n",
    "print(newtime.shape)\n",
    "print(heatmoderate.shape)\n",
    "print(heatstrong.shape)\n",
    "print(heatsevere.shape)\n",
    "print(heatextreme.shape)\n",
    "print(heatwavesnumber.shape)\n",
    "print(hwv.shape)\n",
    "print(hwmoderate.shape)\n",
    "print(hwstrong.shape)\n",
    "print(hwsevere.shape)\n",
    "print(hwextreme.shape)\n",
    "print(hwevents.shape)\n",
    "print(len(startindexs))\n",
    "print(len(stopindexs))\n",
    "print(heatvalueindex.shape)\n"
   ]
  },
  {
   "cell_type": "code",
   "execution_count": 22,
   "metadata": {},
   "outputs": [
    {
     "data": {
      "text/plain": [
       "40"
      ]
     },
     "execution_count": 22,
     "metadata": {},
     "output_type": "execute_result"
    }
   ],
   "source": [
    "len(startindexs[12215])"
   ]
  },
  {
   "cell_type": "code",
   "execution_count": 23,
   "metadata": {},
   "outputs": [
    {
     "data": {
      "text/plain": [
       "20475"
      ]
     },
     "execution_count": 23,
     "metadata": {},
     "output_type": "execute_result"
    }
   ],
   "source": [
    "175*117"
   ]
  },
  {
   "cell_type": "code",
   "execution_count": 24,
   "metadata": {},
   "outputs": [],
   "source": [
    "sindex=np.array(startindexs)\n",
    "eindex=np.array(stopindexs)"
   ]
  },
  {
   "cell_type": "code",
   "execution_count": 25,
   "metadata": {},
   "outputs": [
    {
     "name": "stdout",
     "output_type": "stream",
     "text": [
      "(175,)\n",
      "(117,)\n",
      "(15961,)\n",
      "(12216,)\n"
     ]
    }
   ],
   "source": [
    "n=np.arange(0,12216)\n",
    "print(lat.shape)\n",
    "print(lon.shape)\n",
    "print(time.shape)\n",
    "print(n.shape)"
   ]
  },
  {
   "cell_type": "code",
   "execution_count": 26,
   "metadata": {},
   "outputs": [
    {
     "name": "stderr",
     "output_type": "stream",
     "text": [
      "C:\\Anaconda\\envs\\py36\\lib\\site-packages\\distributed\\config.py:63: YAMLLoadWarning: calling yaml.load() without Loader=... is deprecated, as the default Loader is unsafe. Please read https://msg.pyyaml.org/load for full details.\n",
      "  config.update(yaml.load(text))\n"
     ]
    }
   ],
   "source": [
    "#\n",
    "# lat length=175\n",
    "# lon length=117\n",
    "# time length 15449\n",
    "# nindex=12216\n",
    "ds=xr.Dataset(\n",
    "    {\"heatmoderate\":([\"time\",\"lat\",\"lon\"],heatmoderate),\n",
    "    \"heatstrong\":([\"time\",\"lat\",\"lon\"],heatstrong),\n",
    "    \"heatsevere\":([\"time\",\"lat\",\"lon\"],heatsevere),\n",
    "    \"heatextreme\":([\"time\",\"lat\",\"lon\"],heatextreme),\n",
    "    \"number_of_heatwaves\":([\"lat\",\"lon\"],heatwavesnumber),\n",
    "    \"heatwaves\":([\"lat\",\"lon\"],hwv),\n",
    "    \"heatwave_moderate\":([\"lat\",\"lon\"],hwmoderate),\n",
    "    \"heatwave_strong\":([\"lat\",\"lon\"],hwstrong),\n",
    "    \"heatwave_severe\":([\"lat\",\"lon\"],hwsevere),\n",
    "    \"heatwave_estreme\":([\"lat\",\"lon\"],hwextreme),\n",
    "    \"heatwave_valueindex\":([\"time\",\"lat\",\"lon\"],heatvalueindex)},\n",
    "#    \"start_index\":([\"n\"],sindex)},\n",
    "#    \"stop_index\":([\"n\"],eindex),\n",
    "#    },\n",
    "    coords={\n",
    "        \"lon\":lon,\n",
    "        \"lat\":lat,\n",
    "        \"time\":time,\n",
    "        \"n\":n},\n",
    ")\n",
    "ds.to_netcdf(\"heatcontent_heatwave_20220808.nc\")"
   ]
  },
  {
   "cell_type": "code",
   "execution_count": null,
   "metadata": {},
   "outputs": [],
   "source": []
  }
 ],
 "metadata": {
  "kernelspec": {
   "display_name": "Python 3",
   "language": "python",
   "name": "python3"
  },
  "language_info": {
   "codemirror_mode": {
    "name": "ipython",
    "version": 3
   },
   "file_extension": ".py",
   "mimetype": "text/x-python",
   "name": "python",
   "nbconvert_exporter": "python",
   "pygments_lexer": "ipython3",
   "version": "3.6.4"
  }
 },
 "nbformat": 4,
 "nbformat_minor": 2
}
