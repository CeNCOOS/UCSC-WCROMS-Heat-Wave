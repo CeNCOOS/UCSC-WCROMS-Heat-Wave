{
 "cells": [
  {
   "cell_type": "code",
   "execution_count": null,
   "metadata": {},
   "outputs": [],
   "source": [
    "import pickle\n",
    "import matplotlib.pyplot as plt\n",
    "import pandas as pd\n",
    "import numpy as np"
   ]
  },
  {
   "cell_type": "code",
   "execution_count": null,
   "metadata": {},
   "outputs": [],
   "source": [
    "time,newtime=pickle.load(open('x:/heat_content/heat_wave_data/heat_wave_westcoast_time_sst20220809.p','rb'))"
   ]
  },
  {
   "cell_type": "code",
   "execution_count": null,
   "metadata": {},
   "outputs": [],
   "source": [
    "#heatmoderate,heatstrong,heatsevere=pickle.load(open('x:/heat_content/heat_wave_data/heat_2sst.p','rb'))"
   ]
  },
  {
   "cell_type": "code",
   "execution_count": null,
   "metadata": {},
   "outputs": [],
   "source": [
    "heatwavesnumber,hwv,hwmoderate,hwstrong,hwsevere,hwextreme,hwevents,startindexs,stopindexs,heatvalueindex=pickle.load(open('x:/heat_content/heat_wave_data/heat_1sst20220809.p','rb'))"
   ]
  },
  {
   "cell_type": "code",
   "execution_count": null,
   "metadata": {},
   "outputs": [],
   "source": [
    "[heatextreme]=pickle.load(open('x:/heat_content/heat_wave_data/heat_3sst20220809.p','rb'))"
   ]
  },
  {
   "cell_type": "code",
   "execution_count": null,
   "metadata": {},
   "outputs": [],
   "source": [
    "[heatmoderate]=pickle.load(open('x:/heat_content/heat_wave_data/heat_moderate20220809.p','rb'))"
   ]
  },
  {
   "cell_type": "code",
   "execution_count": null,
   "metadata": {},
   "outputs": [],
   "source": [
    "[heatstrong]=pickle.load(open('x:/heat_content/heat_wave_data/heat_strong20220809.p','rb'))"
   ]
  },
  {
   "cell_type": "code",
   "execution_count": null,
   "metadata": {},
   "outputs": [],
   "source": [
    "[heatsevere]=pickle.load(open('x:/heat_content/heat_wave_data/heat_severe20220809.p','rb'))"
   ]
  },
  {
   "cell_type": "code",
   "execution_count": null,
   "metadata": {},
   "outputs": [],
   "source": [
    "#heatstrong=pickle.load(open('c:/users/flbahr/heat_5a.p','rb'))"
   ]
  },
  {
   "cell_type": "code",
   "execution_count": null,
   "metadata": {},
   "outputs": [],
   "source": [
    "heatextreme.shape"
   ]
  },
  {
   "cell_type": "code",
   "execution_count": null,
   "metadata": {},
   "outputs": [],
   "source": [
    "import xarray as xr"
   ]
  },
  {
   "cell_type": "code",
   "execution_count": null,
   "metadata": {},
   "outputs": [],
   "source": [
    "ds = xr.open_mfdataset(['c:/heat_content/heat_wave_data/West_Coast_Temperature_surface_2_20220809.nc'],chunks={\"time\":10})"
   ]
  },
  {
   "cell_type": "code",
   "execution_count": null,
   "metadata": {},
   "outputs": [],
   "source": [
    "lat=ds['lat'].values\n",
    "lon=ds['lon'].values\n",
    "print(len(lat))\n",
    "print(len(lon))"
   ]
  },
  {
   "cell_type": "code",
   "execution_count": null,
   "metadata": {},
   "outputs": [],
   "source": [
    "print(time.shape)\n",
    "print(newtime.shape)\n",
    "print(heatmoderate.shape)\n",
    "print(heatstrong.shape)\n",
    "print(heatsevere.shape)\n",
    "print(heatextreme.shape)\n",
    "print(heatwavesnumber.shape)\n",
    "print(hwv.shape)\n",
    "print(hwmoderate.shape)\n",
    "print(hwstrong.shape)\n",
    "print(hwsevere.shape)\n",
    "print(hwextreme.shape)\n",
    "print(hwevents.shape)\n",
    "print(len(startindexs))\n",
    "print(len(stopindexs))\n",
    "print(heatvalueindex.shape)\n"
   ]
  },
  {
   "cell_type": "code",
   "execution_count": null,
   "metadata": {},
   "outputs": [],
   "source": [
    "len(startindexs[12215])"
   ]
  },
  {
   "cell_type": "code",
   "execution_count": null,
   "metadata": {},
   "outputs": [],
   "source": [
    "175*117"
   ]
  },
  {
   "cell_type": "code",
   "execution_count": null,
   "metadata": {},
   "outputs": [],
   "source": [
    "sindex=np.array(startindexs)\n",
    "eindex=np.array(stopindexs)"
   ]
  },
  {
   "cell_type": "code",
   "execution_count": null,
   "metadata": {},
   "outputs": [],
   "source": [
    "n=np.arange(0,12216)\n",
    "print(lat.shape)\n",
    "print(lon.shape)\n",
    "print(time.shape)\n",
    "print(n.shape)"
   ]
  },
  {
   "cell_type": "code",
   "execution_count": null,
   "metadata": {},
   "outputs": [],
   "source": [
    "#\n",
    "# lat length=175\n",
    "# lon length=117\n",
    "# time length 15449\n",
    "# nindex=12216\n",
    "ds=xr.Dataset(\n",
    "    {\"heatmoderate\":([\"time\",\"lat\",\"lon\"],heatmoderate),\n",
    "    \"heatstrong\":([\"time\",\"lat\",\"lon\"],heatstrong),\n",
    "    \"heatsevere\":([\"time\",\"lat\",\"lon\"],heatsevere),\n",
    "    \"heatextreme\":([\"time\",\"lat\",\"lon\"],heatextreme),\n",
    "    \"number_of_heatwaves\":([\"lat\",\"lon\"],heatwavesnumber),\n",
    "    \"heatwaves\":([\"lat\",\"lon\"],hwv),\n",
    "    \"heatwave_moderate\":([\"lat\",\"lon\"],hwmoderate),\n",
    "    \"heatwave_strong\":([\"lat\",\"lon\"],hwstrong),\n",
    "    \"heatwave_severe\":([\"lat\",\"lon\"],hwsevere),\n",
    "    \"heatwave_estreme\":([\"lat\",\"lon\"],hwextreme),\n",
    "    \"heatwave_valueindex\":([\"time\",\"lat\",\"lon\"],heatvalueindex)},\n",
    "#    \"start_index\":([\"n\"],sindex)},\n",
    "#    \"stop_index\":([\"n\"],eindex),\n",
    "#    },\n",
    "    coords={\n",
    "        \"lon\":lon,\n",
    "        \"lat\":lat,\n",
    "        \"time\":time,\n",
    "        \"n\":n},\n",
    ")\n",
    "ds.to_netcdf(\"heatcontent_heatwave_2sst_20220809.nc\")"
   ]
  },
  {
   "cell_type": "code",
   "execution_count": null,
   "metadata": {},
   "outputs": [],
   "source": []
  }
 ],
 "metadata": {
  "kernelspec": {
   "display_name": "Python 3",
   "language": "python",
   "name": "python3"
  },
  "language_info": {
   "codemirror_mode": {
    "name": "ipython",
    "version": 3
   },
   "file_extension": ".py",
   "mimetype": "text/x-python",
   "name": "python",
   "nbconvert_exporter": "python",
   "pygments_lexer": "ipython3",
   "version": "3.6.4"
  }
 },
 "nbformat": 4,
 "nbformat_minor": 2
}
