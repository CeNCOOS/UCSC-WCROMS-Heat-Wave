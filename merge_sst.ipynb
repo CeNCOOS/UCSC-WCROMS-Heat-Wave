{
 "cells": [
  {
   "cell_type": "code",
   "execution_count": 1,
   "metadata": {},
   "outputs": [
    {
     "name": "stdout",
     "output_type": "stream",
     "text": [
      "Populating the interactive namespace from numpy and matplotlib\n"
     ]
    }
   ],
   "source": [
    "# Load required modules\n",
    "import sys\n",
    "import numpy as np\n",
    "import xarray as xr\n",
    "from datetime import date\n",
    "import datetime as dt\n",
    "import scipy.io\n",
    "from matplotlib import pyplot as plt\n",
    "import cartopy.crs as ccrs\n",
    "import cartopy.feature as cfeature\n",
    "from scipy import integrate\n",
    "import pandas as pd\n",
    "%pylab inline\n",
    "# Load marineHeatWaves definition module\n",
    "import os\n",
    "sys.path.insert(0,'x:/heat_content/')\n",
    "import marineHeatWave as marineHeatWave\n",
    "#import marineHeatWaves as mhw\n",
    "import pdb"
   ]
  },
  {
   "cell_type": "markdown",
   "metadata": {},
   "source": [
    "Load all the yearly heat content files for the 31 year historical run"
   ]
  },
  {
   "cell_type": "code",
   "execution_count": 2,
   "metadata": {},
   "outputs": [
    {
     "name": "stdout",
     "output_type": "stream",
     "text": [
      "x:/heat_content/heat_wave_data/West_Coast_Temperature_1980_last4days.nc\n",
      "x:/heat_content/heat_wave_data/West_Coast_Temperature_1981_last4days.nc\n",
      "x:/heat_content/heat_wave_data/West_Coast_Temperature_1982_last4days.nc\n",
      "x:/heat_content/heat_wave_data/West_Coast_Temperature_1983_last4days.nc\n",
      "x:/heat_content/heat_wave_data/West_Coast_Temperature_1984_last4days.nc\n",
      "x:/heat_content/heat_wave_data/West_Coast_Temperature_1985_last4days.nc\n",
      "x:/heat_content/heat_wave_data/West_Coast_Temperature_1986_last4days.nc\n",
      "x:/heat_content/heat_wave_data/West_Coast_Temperature_1987_last4days.nc\n",
      "x:/heat_content/heat_wave_data/West_Coast_Temperature_1988_last4days.nc\n",
      "x:/heat_content/heat_wave_data/West_Coast_Temperature_1989_last4days.nc\n",
      "x:/heat_content/heat_wave_data/West_Coast_Temperature_1990_last4days.nc\n",
      "x:/heat_content/heat_wave_data/West_Coast_Temperature_1991_last4days.nc\n",
      "x:/heat_content/heat_wave_data/West_Coast_Temperature_1992_last4days.nc\n",
      "x:/heat_content/heat_wave_data/West_Coast_Temperature_1993_last4days.nc\n",
      "x:/heat_content/heat_wave_data/West_Coast_Temperature_1994_last4days.nc\n",
      "x:/heat_content/heat_wave_data/West_Coast_Temperature_1995_last4days.nc\n",
      "x:/heat_content/heat_wave_data/West_Coast_Temperature_1996_last4days.nc\n",
      "x:/heat_content/heat_wave_data/West_Coast_Temperature_1997_last4days.nc\n",
      "x:/heat_content/heat_wave_data/West_Coast_Temperature_1998_last4days.nc\n",
      "x:/heat_content/heat_wave_data/West_Coast_Temperature_1999_last4days.nc\n",
      "x:/heat_content/heat_wave_data/West_Coast_Temperature_2000_last4days.nc\n",
      "x:/heat_content/heat_wave_data/West_Coast_Temperature_2001_last4days.nc\n",
      "x:/heat_content/heat_wave_data/West_Coast_Temperature_2002_last4days.nc\n",
      "x:/heat_content/heat_wave_data/West_Coast_Temperature_2003_last4days.nc\n",
      "x:/heat_content/heat_wave_data/West_Coast_Temperature_2004_last4days.nc\n",
      "x:/heat_content/heat_wave_data/West_Coast_Temperature_2005_last4days.nc\n",
      "x:/heat_content/heat_wave_data/West_Coast_Temperature_2006_last4days.nc\n",
      "x:/heat_content/heat_wave_data/West_Coast_Temperature_2007_last4days.nc\n",
      "x:/heat_content/heat_wave_data/West_Coast_Temperature_2008_last4days.nc\n",
      "x:/heat_content/heat_wave_data/West_Coast_Temperature_2009_last4days.nc\n",
      "x:/heat_content/heat_wave_data/West_Coast_Temperature_2010_last4days.nc\n",
      "x:/heat_content/heat_wave_data/West_Coast_Temperature_2011_last4days.nc\n",
      "x:/heat_content/heat_wave_data/West_Coast_Temperature_2012_last4days.nc\n",
      "x:/heat_content/heat_wave_data/West_Coast_Temperature_2013_last4days.nc\n",
      "x:/heat_content/heat_wave_data/West_Coast_Temperature_2014_last4days.nc\n",
      "x:/heat_content/heat_wave_data/West_Coast_Temperature_2015_last4days.nc\n",
      "x:/heat_content/heat_wave_data/West_Coast_Temperature_2016_last4days.nc\n",
      "x:/heat_content/heat_wave_data/West_Coast_Temperature_2017_last4days.nc\n",
      "x:/heat_content/heat_wave_data/West_Coast_Temperature_2018_last4days.nc\n",
      "x:/heat_content/heat_wave_data/West_Coast_Temperature_2019_last4days.nc\n"
     ]
    }
   ],
   "source": [
    "ic=0\n",
    "ny=np.arange(1980,2020)\n",
    "for i in ny:\n",
    "    file='x:/heat_content/heat_wave_data/West_Coast_Temperature_'+str(i)+'_last4days.nc'\n",
    "    ds=xr.open_dataset(file)\n",
    "    print(file)\n",
    "    tz=ds['time']\n",
    "    varname='temperature_'+str(i)+'_surface'\n",
    "    #if i==1981:\n",
    "    #    varname='heat_content_1980_100_meters'\n",
    "    #if i==1985:\n",
    "    #    varname='heat_content_1984_100_meters'\n",
    "    th=ds[varname]\n",
    "    if ic==0:\n",
    "        bigarray=th\n",
    "        bigtime=tz\n",
    "        ic=1;\n",
    "    else:\n",
    "        bigarray=np.dstack((bigarray,th))\n",
    "        bigtime=np.append(bigtime,tz)"
   ]
  },
  {
   "cell_type": "code",
   "execution_count": 3,
   "metadata": {},
   "outputs": [
    {
     "data": {
      "text/plain": [
       "numpy.datetime64('2019-04-29T12:00:00.000000000')"
      ]
     },
     "execution_count": 3,
     "metadata": {},
     "output_type": "execute_result"
    }
   ],
   "source": [
    "bigtime[-1]"
   ]
  },
  {
   "cell_type": "markdown",
   "metadata": {},
   "source": [
    "Load the current heat content run data"
   ]
  },
  {
   "cell_type": "code",
   "execution_count": 4,
   "metadata": {},
   "outputs": [],
   "source": [
    "file='x:/heat_content/heat_wave_data/West_Coast_Temperature_surface_2_20220809.nc'\n",
    "ds=xr.open_dataset(file)\n",
    "tz=ds['time']"
   ]
  },
  {
   "cell_type": "code",
   "execution_count": 6,
   "metadata": {},
   "outputs": [],
   "source": [
    "ind=np.where(tz > bigtime[-1])"
   ]
  },
  {
   "cell_type": "code",
   "execution_count": 7,
   "metadata": {},
   "outputs": [
    {
     "data": {
      "text/plain": [
       "(array([3040, 3041, 3042, ..., 4229, 4230, 4231], dtype=int64),)"
      ]
     },
     "execution_count": 7,
     "metadata": {},
     "output_type": "execute_result"
    }
   ],
   "source": [
    "ind"
   ]
  },
  {
   "cell_type": "code",
   "execution_count": 8,
   "metadata": {},
   "outputs": [],
   "source": [
    "sst=ds['temperature_surface'].values\n",
    "sst=sst.transpose((1,2,0))"
   ]
  },
  {
   "cell_type": "code",
   "execution_count": 10,
   "metadata": {},
   "outputs": [],
   "source": [
    "newsst=sst[:,:,3040:]\n",
    "atime=tz[3040:]"
   ]
  },
  {
   "cell_type": "code",
   "execution_count": 11,
   "metadata": {},
   "outputs": [],
   "source": [
    "#sst=ds['temperature_surface'].values\n",
    "#sst=sst.transpose((1,2,0))\n",
    "oldarray=bigarray;\n",
    "oldtime=bigtime;\n",
    "#bigarray=np.dstack((bigarray,sst))\n",
    "bigarray=np.dstack((bigarray,newsst))\n",
    "#bigtime=np.append(bigtime,tz)\n",
    "bigtime=np.append(bigtime,atime)"
   ]
  },
  {
   "cell_type": "code",
   "execution_count": null,
   "metadata": {},
   "outputs": [],
   "source": [
    "plt.plot(oldtime,oldarray[50,50,:])\n",
    "plt.plot(tz,sst[50,50,:],'r')"
   ]
  },
  {
   "cell_type": "code",
   "execution_count": null,
   "metadata": {},
   "outputs": [],
   "source": [
    "plt.savefig('model_sst50x50_20220708_30yrandNRT.png')"
   ]
  },
  {
   "cell_type": "code",
   "execution_count": null,
   "metadata": {},
   "outputs": [],
   "source": [
    "import numpy as np\n",
    "z=np.arange(1981,2021)"
   ]
  },
  {
   "cell_type": "code",
   "execution_count": null,
   "metadata": {},
   "outputs": [],
   "source": [
    "x=datetime.datetime(1980,1,9,12,0,0)\n",
    "print(x)"
   ]
  },
  {
   "cell_type": "code",
   "execution_count": null,
   "metadata": {},
   "outputs": [],
   "source": [
    "ts=oldtime-np.datetime64('1970-01-01T00:00:00Z')\n",
    "#import pandas as pd\n",
    "#x=pd.Timestamp(oldtime)\n",
    "#print(x)\n",
    "#from datetime import datetime\n",
    "#ii=oldtime[0]\n",
    "#iz=ii.astype(datetime)\n",
    "#print(iz)"
   ]
  },
  {
   "cell_type": "code",
   "execution_count": null,
   "metadata": {},
   "outputs": [],
   "source": [
    "xs=ts/np.timedelta64(1,'s')"
   ]
  },
  {
   "cell_type": "code",
   "execution_count": null,
   "metadata": {},
   "outputs": [],
   "source": [
    "datetime.utcfromtimestamp(xs)"
   ]
  },
  {
   "cell_type": "code",
   "execution_count": null,
   "metadata": {},
   "outputs": [],
   "source": [
    "i=np.where(oldtime.asdatetime==x)\n",
    "print(i)"
   ]
  },
  {
   "cell_type": "code",
   "execution_count": null,
   "metadata": {},
   "outputs": [],
   "source": [
    "oldtime[0]"
   ]
  },
  {
   "cell_type": "code",
   "execution_count": null,
   "metadata": {},
   "outputs": [],
   "source": [
    "print(bigtime.shape)\n",
    "print(bigarray.shape)"
   ]
  },
  {
   "cell_type": "markdown",
   "metadata": {},
   "source": [
    "Access the relevant variables"
   ]
  },
  {
   "cell_type": "markdown",
   "metadata": {},
   "source": [
    "Rearrange the columns to match the 31 year data already loaded so we can merge the data"
   ]
  },
  {
   "cell_type": "markdown",
   "metadata": {},
   "source": [
    "Check dimensions"
   ]
  },
  {
   "cell_type": "markdown",
   "metadata": {},
   "source": [
    "Now to actually compute the heat wave information."
   ]
  },
  {
   "cell_type": "code",
   "execution_count": 12,
   "metadata": {},
   "outputs": [],
   "source": [
    "#[nt,nlo,nla]=GFNMS_mask['heat_content_100_meters'].shape\n",
    "[nlo,nla,nt]=bigarray.shape"
   ]
  },
  {
   "cell_type": "code",
   "execution_count": 13,
   "metadata": {},
   "outputs": [],
   "source": [
    "alat=ds['lat']\n",
    "alon=ds['lon']"
   ]
  },
  {
   "cell_type": "code",
   "execution_count": 14,
   "metadata": {},
   "outputs": [],
   "source": [
    "time=bigtime\n",
    "#time=ds['time'].values\n",
    "newtime=[]\n",
    "it=np.arange(0,len(time))\n",
    "for t in it:    \n",
    "    tx=dt.datetime.utcfromtimestamp(time[t].tolist()/1e9)\n",
    "    tx=dt.datetime.toordinal(tx)\n",
    "    newtime=np.append(newtime,tx)\n",
    "newtime=newtime.astype('int')"
   ]
  },
  {
   "cell_type": "code",
   "execution_count": 16,
   "metadata": {},
   "outputs": [
    {
     "data": {
      "text/plain": [
       "722823"
      ]
     },
     "execution_count": 16,
     "metadata": {},
     "output_type": "execute_result"
    }
   ],
   "source": [
    "newtime[0]"
   ]
  },
  {
   "cell_type": "code",
   "execution_count": 17,
   "metadata": {},
   "outputs": [],
   "source": [
    "heatwavesnumber=np.zeros((175,117))\n",
    "hwv=np.zeros((175,117))\n",
    "hwevents=np.zeros((175,117))\n",
    "hwmoderate=np.zeros((175,117))\n",
    "hwstrong=np.zeros((175,117))\n",
    "hwsevere=np.zeros((175,117))\n",
    "hwextreme=np.zeros((175,117))\n",
    "startindexs=[]\n",
    "stopindexs=[]\n",
    "heatvalueindex=np.zeros((nt,nlo,nla))\n",
    "heatmoderate=np.zeros((nt,nlo,nla))\n",
    "heatstrong=np.zeros((nt,nlo,nla))\n",
    "heatsevere=np.zeros((nt,nlo,nla))\n",
    "heatextreme=np.zeros((nt,nlo,nla))"
   ]
  },
  {
   "cell_type": "code",
   "execution_count": null,
   "metadata": {},
   "outputs": [],
   "source": [
    "#plt.plot(bigtime,bigarray[1,1,:])"
   ]
  },
  {
   "cell_type": "code",
   "execution_count": 18,
   "metadata": {
    "scrolled": false
   },
   "outputs": [
    {
     "name": "stdout",
     "output_type": "stream",
     "text": [
      "0\n",
      "1\n",
      "2\n",
      "3\n",
      "4\n",
      "5\n",
      "6\n",
      "7\n",
      "8\n",
      "9\n",
      "10\n",
      "11\n",
      "12\n",
      "13\n",
      "14\n",
      "15\n",
      "16\n",
      "17\n",
      "18\n",
      "19\n",
      "20\n",
      "21\n",
      "22\n",
      "23\n",
      "24\n",
      "25\n",
      "26\n",
      "27\n",
      "28\n",
      "29\n",
      "30\n",
      "31\n",
      "32\n",
      "33\n",
      "34\n",
      "35\n",
      "36\n",
      "37\n",
      "38\n",
      "39\n",
      "40\n",
      "41\n",
      "42\n",
      "43\n",
      "44\n",
      "45\n",
      "46\n",
      "47\n",
      "48\n",
      "49\n",
      "50\n",
      "51\n",
      "52\n",
      "53\n",
      "54\n",
      "55\n",
      "56\n",
      "57\n",
      "58\n",
      "59\n",
      "60\n",
      "61\n",
      "62\n",
      "63\n"
     ]
    },
    {
     "name": "stderr",
     "output_type": "stream",
     "text": [
      "x:/heat_content\\marineHeatWave.py:388: RuntimeWarning: invalid value encountered in double_scalars\n",
      "  mhw['rate_decline'].append((mhw_relSeas[tt_peak] - mhw_relSeas[-1]) / (tt_end-tt_start-tt_peak))\n"
     ]
    },
    {
     "name": "stdout",
     "output_type": "stream",
     "text": [
      "64\n",
      "65\n",
      "66\n",
      "67\n",
      "68\n",
      "69\n",
      "70\n",
      "71\n",
      "72\n",
      "73\n",
      "74\n",
      "75\n",
      "76\n",
      "77\n",
      "78\n",
      "79\n",
      "80\n",
      "81\n",
      "82\n",
      "83\n",
      "84\n",
      "85\n",
      "86\n",
      "87\n",
      "88\n",
      "89\n",
      "90\n",
      "91\n",
      "92\n",
      "93\n",
      "94\n",
      "95\n",
      "96\n",
      "97\n",
      "98\n",
      "99\n",
      "100\n",
      "101\n",
      "102\n",
      "103\n",
      "104\n",
      "105\n",
      "106\n",
      "107\n",
      "108\n",
      "109\n",
      "110\n",
      "111\n",
      "112\n",
      "113\n",
      "114\n",
      "115\n",
      "116\n",
      "117\n",
      "118\n",
      "119\n",
      "120\n",
      "121\n",
      "122\n",
      "123\n",
      "124\n",
      "125\n",
      "126\n",
      "127\n",
      "128\n",
      "129\n",
      "130\n",
      "131\n",
      "132\n",
      "133\n",
      "134\n",
      "135\n",
      "136\n",
      "137\n",
      "138\n",
      "139\n",
      "140\n",
      "141\n",
      "142\n",
      "143\n",
      "144\n",
      "145\n",
      "146\n",
      "147\n",
      "148\n",
      "149\n",
      "150\n",
      "151\n",
      "152\n",
      "153\n",
      "154\n",
      "155\n",
      "156\n",
      "157\n",
      "158\n",
      "159\n",
      "160\n",
      "161\n",
      "162\n",
      "163\n",
      "164\n",
      "165\n",
      "166\n",
      "167\n",
      "168\n",
      "169\n",
      "170\n",
      "171\n",
      "172\n",
      "173\n",
      "174\n"
     ]
    }
   ],
   "source": [
    "ix=np.arange(0,175)\n",
    "iy=np.arange(0,117)\n",
    "# first actual data at i=69, j=59\n",
    "for i in ix:\n",
    "    print(i)\n",
    "    for j in iy:\n",
    "        xtest=bigarray[i,j,:]\n",
    "        #xtest=test.values        \n",
    "        # how to check for NaN\n",
    "        if np.isnan(xtest[0])==False:\n",
    "            # we have data to run the code on\n",
    "            # here is where we can run the marine Heat Wave code\n",
    "            mhw=marineHeatWave.detect(newtime,xtest)\n",
    "            stats=mhw[0]\n",
    "            other=mhw[1]\n",
    "            indexs=stats['index_start']\n",
    "            indexe=stats['index_end']\n",
    "            idiff=(np.array(indexe)-np.array(indexs))+1\n",
    "            heatwavesnumber[i,j]=sum(idiff)\n",
    "            hwv[i,j]=sum(stats['duration'])\n",
    "            hwmoderate[i,j]=sum(stats['duration_moderate'])\n",
    "            hwstrong[i,j]=sum(stats['duration_strong'])\n",
    "            hwsevere[i,j]=sum(stats['duration_severe'])\n",
    "            hwextreme[i,j]=sum(stats['duration_extreme'])\n",
    "            hwevents[i,j]=stats['n_events']\n",
    "            startindexs.append(mhw[0]['index_start'])\n",
    "            stopindexs.append(mhw[0]['index_end'])\n",
    "            # keep track of when a heat wave occurs.  Need to know type of heat wave also?\n",
    "            category=stats['category']\n",
    "            lid=len(indexs)\n",
    "            for k in np.arange(0,lid):\n",
    "                heatvalueindex[indexs[k]:indexe[k],i,j]=1\n",
    "                if category[k]=='Moderate':\n",
    "                    heatmoderate[indexs[k]:indexe[k],i,j]=1\n",
    "                if category[k]=='Strong':\n",
    "                    heatstrong[indexs[k]:indexe[k],i,j]=1\n",
    "                if category[k]=='Severe':\n",
    "                    heatsevere[indexs[k]:indexe[k],i,j]=1\n",
    "                if category[k]=='Extreme':\n",
    "                    heatextreme[indexs[k]:indexe[k],i,j]=1"
   ]
  },
  {
   "cell_type": "code",
   "execution_count": null,
   "metadata": {},
   "outputs": [],
   "source": [
    "plt.plot(newtime,xtest)"
   ]
  },
  {
   "cell_type": "code",
   "execution_count": 19,
   "metadata": {},
   "outputs": [],
   "source": [
    "import pickle"
   ]
  },
  {
   "cell_type": "code",
   "execution_count": null,
   "metadata": {},
   "outputs": [],
   "source": [
    "newtime.shape"
   ]
  },
  {
   "cell_type": "code",
   "execution_count": 20,
   "metadata": {},
   "outputs": [],
   "source": [
    "pickle.dump([time,newtime],open(\"heat_wave_westcoast_time_sst20220809.p\",\"wb\"))"
   ]
  },
  {
   "cell_type": "code",
   "execution_count": null,
   "metadata": {},
   "outputs": [],
   "source": [
    "#pickle.dump([heatwavesnumber,hwv,hwmoderate,hwstrong,hwsevere,hwextreme,hwevents,startindexs,stopindexs,heatvalueindex,heatmoderate,heatstrong,heatsevere], open(\"heat_gfnms.p\",\"wb\"))"
   ]
  },
  {
   "cell_type": "code",
   "execution_count": 21,
   "metadata": {},
   "outputs": [],
   "source": [
    "pickle.dump([heatwavesnumber,hwv,hwmoderate,hwstrong,hwsevere,hwextreme,hwevents,startindexs,stopindexs,heatvalueindex], open(\"heat_1sst20220809.p\",\"wb\"))"
   ]
  },
  {
   "cell_type": "code",
   "execution_count": 24,
   "metadata": {},
   "outputs": [
    {
     "ename": "MemoryError",
     "evalue": "",
     "output_type": "error",
     "traceback": [
      "\u001b[1;31m---------------------------------------------------------------------------\u001b[0m",
      "\u001b[1;31mMemoryError\u001b[0m                               Traceback (most recent call last)",
      "\u001b[1;32m<ipython-input-24-3e8e936e835d>\u001b[0m in \u001b[0;36m<module>\u001b[1;34m()\u001b[0m\n\u001b[1;32m----> 1\u001b[1;33m \u001b[0mpickle\u001b[0m\u001b[1;33m.\u001b[0m\u001b[0mdump\u001b[0m\u001b[1;33m(\u001b[0m\u001b[1;33m[\u001b[0m\u001b[0mheatmoderate\u001b[0m\u001b[1;33m,\u001b[0m\u001b[0mheatstrong\u001b[0m\u001b[1;33m,\u001b[0m\u001b[0mheatsevere\u001b[0m\u001b[1;33m]\u001b[0m\u001b[1;33m,\u001b[0m \u001b[0mopen\u001b[0m\u001b[1;33m(\u001b[0m\u001b[1;34m\"heat_2sst20220809.p\"\u001b[0m\u001b[1;33m,\u001b[0m\u001b[1;34m\"wb\"\u001b[0m\u001b[1;33m)\u001b[0m\u001b[1;33m)\u001b[0m\u001b[1;33m\u001b[0m\u001b[0m\n\u001b[0m",
      "\u001b[1;31mMemoryError\u001b[0m: "
     ]
    }
   ],
   "source": [
    "pickle.dump([heatmoderate,heatstrong,heatsevere], open(\"heat_2sst20220809.p\",\"wb\"))"
   ]
  },
  {
   "cell_type": "code",
   "execution_count": 23,
   "metadata": {},
   "outputs": [],
   "source": [
    "pickle.dump([heatextreme],open(\"heat_3sst20220809.p\",\"wb\"))"
   ]
  },
  {
   "cell_type": "code",
   "execution_count": 25,
   "metadata": {},
   "outputs": [],
   "source": [
    "pickle.dump([heatmoderate],open(\"heat_moderate20220809.p\",\"wb\"))"
   ]
  },
  {
   "cell_type": "code",
   "execution_count": 26,
   "metadata": {},
   "outputs": [],
   "source": [
    "pickle.dump([heatstrong],open(\"heat_strong20220809.p\",\"wb\"))"
   ]
  },
  {
   "cell_type": "code",
   "execution_count": 27,
   "metadata": {},
   "outputs": [],
   "source": [
    "pickle.dump([heatsevere],open(\"heat_severe20220809.p\",\"wb\"))"
   ]
  },
  {
   "cell_type": "code",
   "execution_count": null,
   "metadata": {},
   "outputs": [],
   "source": []
  }
 ],
 "metadata": {
  "kernelspec": {
   "display_name": "Python 3",
   "language": "python",
   "name": "python3"
  },
  "language_info": {
   "codemirror_mode": {
    "name": "ipython",
    "version": 3
   },
   "file_extension": ".py",
   "mimetype": "text/x-python",
   "name": "python",
   "nbconvert_exporter": "python",
   "pygments_lexer": "ipython3",
   "version": "3.6.4"
  }
 },
 "nbformat": 4,
 "nbformat_minor": 2
}
